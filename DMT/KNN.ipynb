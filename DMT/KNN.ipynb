{
  "nbformat": 4,
  "nbformat_minor": 0,
  "metadata": {
    "colab": {
      "provenance": [],
      "toc_visible": true
    },
    "kernelspec": {
      "name": "python3",
      "display_name": "Python 3"
    },
    "language_info": {
      "name": "python"
    }
  },
  "cells": [
    {
      "cell_type": "code",
      "execution_count": 1,
      "metadata": {
        "id": "kuXrbDRw8wSc"
      },
      "outputs": [],
      "source": [
        "import pandas as pd\n"
      ]
    },
    {
      "cell_type": "code",
      "source": [
        "df=pd.read_csv(\"/content/dmtlabKNN.csv\")"
      ],
      "metadata": {
        "id": "xUjA0zAI-fvi"
      },
      "execution_count": null,
      "outputs": []
    },
    {
      "cell_type": "code",
      "source": [
        "print(df)"
      ],
      "metadata": {
        "colab": {
          "base_uri": "https://localhost:8080/"
        },
        "id": "2lm7nMVk-qRJ",
        "outputId": "67479720-feb1-481f-a9cd-048178e12be1"
      },
      "execution_count": null,
      "outputs": [
        {
          "output_type": "stream",
          "name": "stdout",
          "text": [
            "   height  weight        class\n",
            "0      51     167  underweight\n",
            "1      62     182       normal\n",
            "2      69     176       normal\n",
            "3      64     173       normal\n",
            "4      65     172       normal\n",
            "5      56     174  underweight\n",
            "6      58     169       normal\n",
            "7      57     173       normal\n",
            "8      55     170       normal\n"
          ]
        }
      ]
    },
    {
      "cell_type": "code",
      "source": [
        "m={'underweight':0, 'normal':1}\n",
        "df['class']=df['class'].map(m)\n",
        "print(df)"
      ],
      "metadata": {
        "colab": {
          "base_uri": "https://localhost:8080/"
        },
        "id": "e9MtgdmA_twS",
        "outputId": "9412d514-e58e-45cb-d630-830593ae61bc"
      },
      "execution_count": null,
      "outputs": [
        {
          "output_type": "stream",
          "name": "stdout",
          "text": [
            "   height  weight  class\n",
            "0      51     167      0\n",
            "1      62     182      1\n",
            "2      69     176      1\n",
            "3      64     173      1\n",
            "4      65     172      1\n",
            "5      56     174      0\n",
            "6      58     169      1\n",
            "7      57     173      1\n",
            "8      55     170      1\n"
          ]
        }
      ]
    },
    {
      "cell_type": "code",
      "source": [
        "features=[\"weight\",\"height\"]\n",
        "x=df[features]\n",
        "y=df['class']"
      ],
      "metadata": {
        "id": "CQegCLN9Ao4z"
      },
      "execution_count": null,
      "outputs": []
    },
    {
      "cell_type": "code",
      "source": [
        "from sklearn.model_selection import train_test_split"
      ],
      "metadata": {
        "id": "cRz85R_YA-_L"
      },
      "execution_count": null,
      "outputs": []
    },
    {
      "cell_type": "code",
      "source": [
        "x_train,x_test,y_train,y_test=train_test_split(x,y,test_size=0.2,random_state=1)"
      ],
      "metadata": {
        "id": "wKlhwwWuBRx5"
      },
      "execution_count": null,
      "outputs": []
    },
    {
      "cell_type": "code",
      "source": [
        "print(x_train)\n",
        "print(y_train)\n"
      ],
      "metadata": {
        "colab": {
          "base_uri": "https://localhost:8080/"
        },
        "id": "-Khri1UQCSBp",
        "outputId": "9a9cbac7-729f-479d-e029-5a7f3d29b5ce"
      },
      "execution_count": null,
      "outputs": [
        {
          "output_type": "stream",
          "name": "stdout",
          "text": [
            "   weight  height\n",
            "6     169      58\n",
            "7     173      57\n",
            "1     182      62\n",
            "0     167      51\n",
            "4     172      65\n",
            "3     173      64\n",
            "5     174      56\n",
            "6    1\n",
            "7    1\n",
            "1    1\n",
            "0    0\n",
            "4    1\n",
            "3    1\n",
            "5    0\n",
            "Name: class, dtype: int64\n"
          ]
        }
      ]
    },
    {
      "cell_type": "code",
      "source": [
        "print(x_test)\n",
        "print(y_test)"
      ],
      "metadata": {
        "colab": {
          "base_uri": "https://localhost:8080/"
        },
        "id": "NE5g4TSFCiXS",
        "outputId": "23971870-f774-4d28-8ddd-1ceb6dacdf45"
      },
      "execution_count": null,
      "outputs": [
        {
          "output_type": "stream",
          "name": "stdout",
          "text": [
            "   weight  height\n",
            "8     170      55\n",
            "2     176      69\n",
            "8    1\n",
            "2    1\n",
            "Name: class, dtype: int64\n"
          ]
        }
      ]
    },
    {
      "cell_type": "code",
      "source": [
        "from sklearn.neighbors import KNeighborsClassifier\n",
        "knn=KNeighborsClassifier(n_neighbors=3,metric=\"minkowski\")\n",
        "knn.fit(x_train,y_train)\n",
        "y_pred=knn.predict(x_test)\n",
        "print(y_pred)\n",
        "print(y_test)"
      ],
      "metadata": {
        "colab": {
          "base_uri": "https://localhost:8080/"
        },
        "id": "xv5GWJTdEULS",
        "outputId": "74824a62-03f7-47af-e26c-20cb5c943cac"
      },
      "execution_count": null,
      "outputs": [
        {
          "output_type": "stream",
          "name": "stdout",
          "text": [
            "[1 1]\n",
            "8    1\n",
            "2    1\n",
            "Name: class, dtype: int64\n"
          ]
        }
      ]
    },
    {
      "cell_type": "code",
      "source": [
        "from sklearn.metrics import accuracy_score\n",
        "accuracy=accuracy_score(y_test,y_pred)\n",
        "print(\"Accuarcy\",accuracy)"
      ],
      "metadata": {
        "colab": {
          "base_uri": "https://localhost:8080/"
        },
        "id": "svOiUreZGIFC",
        "outputId": "daceb93b-e7cd-4c84-a831-82e3cbd5c673"
      },
      "execution_count": null,
      "outputs": [
        {
          "output_type": "stream",
          "name": "stdout",
          "text": [
            "Accuarcy 1.0\n"
          ]
        }
      ]
    }
  ]
}